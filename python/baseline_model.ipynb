{
 "cells": [
  {
   "cell_type": "code",
   "execution_count": 58,
   "metadata": {},
   "outputs": [],
   "source": [
    "import string\n",
    "import pandas as pd \n",
    "import numpy as np\n",
    "import pymorphy2\n",
    "import tokenize_uk as tk\n",
    "\n",
    "from sklearn.linear_model import SGDClassifier\n",
    "from sklearn.feature_extraction.text import CountVectorizer\n",
    "from sklearn.utils import shuffle, resample\n",
    "from sklearn.model_selection import train_test_split\n",
    "from sklearn.metrics import f1_score, classification_report\n",
    "\n",
    "from stop_words import get_stop_words\n",
    "\n",
    "pd.set_option('display.max_colwidth', -1)\n",
    "import warnings\n",
    "warnings.filterwarnings('ignore')"
   ]
  },
  {
   "cell_type": "code",
   "execution_count": 4,
   "metadata": {},
   "outputs": [],
   "source": [
    "data = pd.read_parquet('../data/classification_data.parquet')"
   ]
  },
  {
   "cell_type": "code",
   "execution_count": 7,
   "metadata": {},
   "outputs": [
    {
     "data": {
      "text/html": [
       "<div>\n",
       "<style scoped>\n",
       "    .dataframe tbody tr th:only-of-type {\n",
       "        vertical-align: middle;\n",
       "    }\n",
       "\n",
       "    .dataframe tbody tr th {\n",
       "        vertical-align: top;\n",
       "    }\n",
       "\n",
       "    .dataframe thead th {\n",
       "        text-align: right;\n",
       "    }\n",
       "</style>\n",
       "<table border=\"1\" class=\"dataframe\">\n",
       "  <thead>\n",
       "    <tr style=\"text-align: right;\">\n",
       "      <th></th>\n",
       "      <th>subjectivity</th>\n",
       "      <th>sentence_uk</th>\n",
       "      <th>y</th>\n",
       "    </tr>\n",
       "    <tr>\n",
       "      <th>index</th>\n",
       "      <th></th>\n",
       "      <th></th>\n",
       "      <th></th>\n",
       "    </tr>\n",
       "  </thead>\n",
       "  <tbody>\n",
       "    <tr>\n",
       "      <th>18780</th>\n",
       "      <td>0.875</td>\n",
       "      <td>Істотно, майже в два рази, з початку року по жовтень зросла вартість комунальних послуг (квартплата, електроенергія, вода, газ і т.д.).</td>\n",
       "      <td>1</td>\n",
       "    </tr>\n",
       "    <tr>\n",
       "      <th>10163</th>\n",
       "      <td>0.000</td>\n",
       "      <td>\"Закон Магнітського\" передбачає візові заборони і заморожування майна чиновників РФ, причетних до смерті юриста Сергія Магнітського, який помер у російській в'язниці в 2009 році.</td>\n",
       "      <td>0</td>\n",
       "    </tr>\n",
       "    <tr>\n",
       "      <th>139434</th>\n",
       "      <td>0.000</td>\n",
       "      <td>У недобудованих секціях продані всі квартири, але чи завершиться будівництво - ніхто не знає.</td>\n",
       "      <td>0</td>\n",
       "    </tr>\n",
       "    <tr>\n",
       "      <th>35111</th>\n",
       "      <td>0.000</td>\n",
       "      <td>Постанова Печерського районного суду м. Києва від 15.02.2017 року про закриття провадження у справі набрала законної сили\", - написав тоді його адвокат.</td>\n",
       "      <td>0</td>\n",
       "    </tr>\n",
       "    <tr>\n",
       "      <th>61850</th>\n",
       "      <td>0.000</td>\n",
       "      <td>Про це в  ефірі   ObozTV  заявив народний депутат IV-VI скликання Василь Горбаль.</td>\n",
       "      <td>0</td>\n",
       "    </tr>\n",
       "    <tr>\n",
       "      <th>146939</th>\n",
       "      <td>0.000</td>\n",
       "      <td>Мосійчук заявляє, що дане відео   є наслідком \"жорстоких катувань\" .</td>\n",
       "      <td>0</td>\n",
       "    </tr>\n",
       "    <tr>\n",
       "      <th>112130</th>\n",
       "      <td>0.000</td>\n",
       "      <td>Підтягуйтеся хто може, так починався майдан.</td>\n",
       "      <td>0</td>\n",
       "    </tr>\n",
       "    <tr>\n",
       "      <th>138355</th>\n",
       "      <td>0.000</td>\n",
       "      <td>Як повідомляв \"Обозреватель\", восени 2016 року українським вчителям планують  знову підвищити зарплати.</td>\n",
       "      <td>0</td>\n",
       "    </tr>\n",
       "    <tr>\n",
       "      <th>32640</th>\n",
       "      <td>0.950</td>\n",
       "      <td>\"Я, чесно кажучи, не знаю, що трапилося з Шевченком, можу лише сказати, щоб преса і люди дивилися на наші оголошення.</td>\n",
       "      <td>1</td>\n",
       "    </tr>\n",
       "    <tr>\n",
       "      <th>166655</th>\n",
       "      <td>0.000</td>\n",
       "      <td>Як писав \"Обозреватель\", Трамп закликав Росію і Україну  укласти мирну угоду.</td>\n",
       "      <td>0</td>\n",
       "    </tr>\n",
       "  </tbody>\n",
       "</table>\n",
       "</div>"
      ],
      "text/plain": [
       "        subjectivity  \\\n",
       "index                  \n",
       "18780   0.875          \n",
       "10163   0.000          \n",
       "139434  0.000          \n",
       "35111   0.000          \n",
       "61850   0.000          \n",
       "146939  0.000          \n",
       "112130  0.000          \n",
       "138355  0.000          \n",
       "32640   0.950          \n",
       "166655  0.000          \n",
       "\n",
       "                                                                                                                                                                               sentence_uk  \\\n",
       "index                                                                                                                                                                                        \n",
       "18780   Істотно, майже в два рази, з початку року по жовтень зросла вартість комунальних послуг (квартплата, електроенергія, вода, газ і т.д.).                                              \n",
       "10163   \"Закон Магнітського\" передбачає візові заборони і заморожування майна чиновників РФ, причетних до смерті юриста Сергія Магнітського, який помер у російській в'язниці в 2009 році.   \n",
       "139434  У недобудованих секціях продані всі квартири, але чи завершиться будівництво - ніхто не знає.                                                                                        \n",
       "35111   Постанова Печерського районного суду м. Києва від 15.02.2017 року про закриття провадження у справі набрала законної сили\", - написав тоді його адвокат.                             \n",
       "61850   Про це в  ефірі   ObozTV  заявив народний депутат IV-VI скликання Василь Горбаль.                                                                                                    \n",
       "146939  Мосійчук заявляє, що дане відео   є наслідком \"жорстоких катувань\" .                                                                                                                 \n",
       "112130  Підтягуйтеся хто може, так починався майдан.                                                                                                                                         \n",
       "138355  Як повідомляв \"Обозреватель\", восени 2016 року українським вчителям планують  знову підвищити зарплати.                                                                              \n",
       "32640   \"Я, чесно кажучи, не знаю, що трапилося з Шевченком, можу лише сказати, щоб преса і люди дивилися на наші оголошення.                                                                \n",
       "166655  Як писав \"Обозреватель\", Трамп закликав Росію і Україну  укласти мирну угоду.                                                                                                        \n",
       "\n",
       "        y  \n",
       "index      \n",
       "18780   1  \n",
       "10163   0  \n",
       "139434  0  \n",
       "35111   0  \n",
       "61850   0  \n",
       "146939  0  \n",
       "112130  0  \n",
       "138355  0  \n",
       "32640   1  \n",
       "166655  0  "
      ]
     },
     "execution_count": 7,
     "metadata": {},
     "output_type": "execute_result"
    }
   ],
   "source": [
    "shuffle(data).head(10)"
   ]
  },
  {
   "cell_type": "code",
   "execution_count": 8,
   "metadata": {},
   "outputs": [
    {
     "data": {
      "text/plain": [
       "y\n",
       "0    90803\n",
       "1    16703\n",
       "Name: sentence_uk, dtype: int64"
      ]
     },
     "execution_count": 8,
     "metadata": {},
     "output_type": "execute_result"
    }
   ],
   "source": [
    "data.groupby(['y'])['sentence_uk'].count()"
   ]
  },
  {
   "cell_type": "code",
   "execution_count": 30,
   "metadata": {},
   "outputs": [],
   "source": [
    "subj = data[data['y'] == 1]\n",
    "obj = data[data['y'] == 0]\n",
    "\n",
    "obj_d = resample(obj, replace=False, n_samples=len(subj), random_state=1234)\n",
    "\n",
    "df = shuffle(pd.concat([obj_d, subj]))"
   ]
  },
  {
   "cell_type": "code",
   "execution_count": 31,
   "metadata": {},
   "outputs": [],
   "source": [
    "stop_words = get_stop_words('uk')\n",
    "morph = pymorphy2.MorphAnalyzer(lang='uk')\n",
    "\n",
    "\n",
    "def analyze(words): \n",
    "    result_words = []\n",
    "    for w in words: \n",
    "        m = morph.parse(w)[0]\n",
    "        lemma = m.normal_form\n",
    "        if lemma not in stop_words and lemma not in string.punctuation: \n",
    "            result_words.append(lemma)\n",
    "    return result_words\n",
    "\n",
    "\n",
    "text = df['sentence_uk'].apply(tk.tokenize_words)\n",
    "text = text.apply(analyze)"
   ]
  },
  {
   "cell_type": "code",
   "execution_count": 56,
   "metadata": {},
   "outputs": [],
   "source": [
    "y = df['y'].values\n",
    "X_train, X_test, y_train, y_test = train_test_split(text, y, test_size=0.2, random_state=1234, stratify=y)\n",
    "\n",
    "vectorizer = CountVectorizer(analyzer='word', lowercase=False, tokenizer=lambda x: x)\n",
    "X_train = vectorizer.fit_transform(X_train)\n",
    "X_test = vectorizer.transform(X_test)"
   ]
  },
  {
   "cell_type": "code",
   "execution_count": 57,
   "metadata": {},
   "outputs": [
    {
     "data": {
      "text/plain": [
       "0.8242791142265414"
      ]
     },
     "execution_count": 57,
     "metadata": {},
     "output_type": "execute_result"
    }
   ],
   "source": [
    "clf = SGDClassifier(loss='log', penalty='elasticnet', n_jobs=-1, learning_rate='optimal')\n",
    "clf.fit(X_train, y_train)\n",
    "y_pred = clf.predict(X_test)\n",
    "f1_score(y_test, y_pred)"
   ]
  },
  {
   "cell_type": "code",
   "execution_count": 60,
   "metadata": {},
   "outputs": [
    {
     "name": "stdout",
     "output_type": "stream",
     "text": [
      "             precision    recall  f1-score   support\n",
      "\n",
      "          0       0.80      0.90      0.84      3341\n",
      "          1       0.88      0.77      0.82      3341\n",
      "\n",
      "avg / total       0.84      0.83      0.83      6682\n",
      "\n"
     ]
    }
   ],
   "source": [
    "print(classification_report(y_test, y_pred))"
   ]
  },
  {
   "cell_type": "code",
   "execution_count": null,
   "metadata": {},
   "outputs": [],
   "source": []
  }
 ],
 "metadata": {
  "kernelspec": {
   "display_name": "Python 3",
   "language": "python",
   "name": "python3"
  },
  "language_info": {
   "codemirror_mode": {
    "name": "ipython",
    "version": 3
   },
   "file_extension": ".py",
   "mimetype": "text/x-python",
   "name": "python",
   "nbconvert_exporter": "python",
   "pygments_lexer": "ipython3",
   "version": "3.6.4"
  }
 },
 "nbformat": 4,
 "nbformat_minor": 2
}
