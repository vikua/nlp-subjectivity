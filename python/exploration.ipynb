{
 "cells": [
  {
   "cell_type": "code",
   "execution_count": 45,
   "metadata": {},
   "outputs": [],
   "source": [
    "import pandas as pd \n",
    "import matplotlib.pyplot as plt\n",
    "\n",
    "from sklearn.utils import shuffle"
   ]
  },
  {
   "cell_type": "code",
   "execution_count": 3,
   "metadata": {},
   "outputs": [],
   "source": [
    "df = pd.read_parquet('data/data_flatten.parquet')"
   ]
  },
  {
   "cell_type": "code",
   "execution_count": 7,
   "metadata": {},
   "outputs": [
    {
     "data": {
      "image/png": "[encoded data removed]",
      "text/plain": [
       "<matplotlib.figure.Figure at 0x10def9d68>"
      ]
     },
     "metadata": {},
     "output_type": "display_data"
    }
   ],
   "source": [
    "plt.hist(df.subjectivity.values, normed=True)\n",
    "plt.show()"
   ]
  },
  {
   "cell_type": "code",
   "execution_count": 11,
   "metadata": {},
   "outputs": [
    {
     "data": {
      "text/plain": [
       "count    179215.000000\n",
       "mean          0.229378\n",
       "std           0.276993\n",
       "min           0.000000\n",
       "25%           0.000000\n",
       "50%           0.100000\n",
       "75%           0.416667\n",
       "max           1.000000\n",
       "Name: subjectivity, dtype: float64"
      ]
     },
     "execution_count": 11,
     "metadata": {},
     "output_type": "execute_result"
    }
   ],
   "source": [
    "df.subjectivity.describe()"
   ]
  },
  {
   "cell_type": "code",
   "execution_count": 17,
   "metadata": {},
   "outputs": [
    {
     "data": {
      "text/plain": [
       "count    175687.000000\n",
       "mean          0.911815\n",
       "std           0.064397\n",
       "min           0.083333\n",
       "25%           0.881058\n",
       "50%           0.924721\n",
       "75%           0.956743\n",
       "max           1.000000\n",
       "Name: objectivity, dtype: float64"
      ]
     },
     "execution_count": 17,
     "metadata": {},
     "output_type": "execute_result"
    }
   ],
   "source": [
    "df.objectivity.describe()"
   ]
  },
  {
   "cell_type": "code",
   "execution_count": 86,
   "metadata": {},
   "outputs": [
    {
     "name": "stdout",
     "output_type": "stream",
     "text": [
      "Objective 90803\n"
     ]
    },
    {
     "data": {
      "text/plain": [
       "array([[0.0,\n",
       "        'Президент Петро Порошенко дав доручення міністру оборони Степану Полтораку забезпечити підвищення грошового забезпечення сержантському складу ЗСУ.',\n",
       "        0],\n",
       "       [0.0,\n",
       "        \"Відповідне доручення він дав під час участі у зборах сержантського і старшинського складу ЗСУ на полігоні у Житомирській області у п'ятницю, інформує  прес-служба президента.\",\n",
       "        0],\n",
       "       [0.0, 'Це не прийнятно\", - звернувся глава держави до Полторака.',\n",
       "        0],\n",
       "       [0.0, 'Він розпорядився втілити це в життя і доповісти.', 0],\n",
       "       [0.06666666666666667,\n",
       "        'Порошенко також нагадав, що на останньому засіданні РНБО було прийнято стратегічний оборонний бюлетень, який визначає програму реформування сектора оборони і безпеки.',\n",
       "        0],\n",
       "       [0.0, 'Українська правда', 0],\n",
       "       [0.0,\n",
       "        'Про це в ефірі  Громадського  сказав Валерій Чалий, посол України в США.',\n",
       "        0],\n",
       "       [0.0,\n",
       "        'Він відзначив важливість сигналу, який США подали Росії в контексті справи Савченко.',\n",
       "        0],\n",
       "       [0.0,\n",
       "        'Президент Петро Порошенко  анонсував звільнення українців Геннадія Афанасьєва та Юрія Солошенка .',\n",
       "        0],\n",
       "       [0.0,\n",
       "        'Про це він пише в своїй статті грецькій газеті \"Катімеріні\", повідомляє  РИА Новости .',\n",
       "        0],\n",
       "       [0.0,\n",
       "        '\"Росія виходить з необхідності вибудовування рівноправного, справді партнерського діалогу з Євросоюзом з найширшого кола питань: від візової лібералізації до формування енергоальянсу.',\n",
       "        0],\n",
       "       [0.0,\n",
       "        'Про це він сказав журналістам після допиту в четвер вранці в Києві, передає \" Інтерфакс-Україна \".',\n",
       "        0],\n",
       "       [0.0,\n",
       "        'На запитання, чи будуть його допитувати у цій справі повторно, парламентарій сказав:    \"Сподіваюся, що ні.',\n",
       "        0],\n",
       "       [0.0, 'Я думаю, що я дав вичерпні відповіді на всі питання\".', 0],\n",
       "       [0.0,\n",
       "        '19 листопада 2015 року на засіданні антикорупційного комітету \\xa0Парасюк вдарив ногою заступника голови Управління \\xa0у боротьбі з корупцією СБУ Пісного.',\n",
       "        0],\n",
       "       [0.08333333333333334,\n",
       "        'На Тернопільщині помер від нанесених невідомими тілесних ушкоджень депутат Кременецького міської ради, громадський активіст Віталій Ващенко.',\n",
       "        0],\n",
       "       [0.0,\n",
       "        \"Про це повідомляє в п'ятницю сектор комунікації управління Національної  поліції  в Тернопільській області.\",\n",
       "        0],\n",
       "       [0.0,\n",
       "        'Чоловік за три години помер в реанімаційному відділенні лікарні.',\n",
       "        0],\n",
       "       [0.0,\n",
       "        'Попередній діагноз – \"забійні рани голови, черепно-мозкова травма, політравма грудей\".',\n",
       "        0],\n",
       "       [0.0, 'Тіло направили на розтин.', 0]], dtype=object)"
      ]
     },
     "execution_count": 86,
     "metadata": {},
     "output_type": "execute_result"
    }
   ],
   "source": [
    "obj = df[df['subjectivity'] <= 0.1]\n",
    "obj = obj[obj['sentence_uk'].str.contains('вважає') == False]\n",
    "obj = obj[obj['sentence_uk'].str.contains('вважаю') == False]\n",
    "obj = obj[obj['sentence_uk'].str.contains('думку') == False]\n",
    "\n",
    "obj['y'] = 0\n",
    "\n",
    "obj = obj[['subjectivity', 'sentence_uk', 'y']]\n",
    "\n",
    "print('Objective', len(obj))\n",
    "\n",
    "obj.head(20).values"
   ]
  },
  {
   "cell_type": "code",
   "execution_count": 87,
   "metadata": {},
   "outputs": [
    {
     "name": "stdout",
     "output_type": "stream",
     "text": [
      "Subjective 16703\n"
     ]
    },
    {
     "data": {
      "text/plain": [
       "array([[0.7,\n",
       "        '16% зазначили, що рівень чиновників знизився, 3,3% - що виріс.',\n",
       "        1],\n",
       "       [0.775,\n",
       "        '\"Генеральної прокуратурою розслідується кримінальне провадження за фактом вчинення тяжких та особливо тяжких злочинів одним із народних депутатів\", - сказав Шокін.',\n",
       "        1],\n",
       "       [1.0,\n",
       "        'Інформацію про це також  підтвердив і голова Радикальної партії  Олег Ляшко.',\n",
       "        1],\n",
       "       [1.0,\n",
       "        \"Лінія розмежування проходить не тільки по території Донбасу - вона пролягла через сім'ї та долі його жителів.\",\n",
       "        1],\n",
       "       [0.0,\n",
       "        '\"Ми вважаємо, що найближчими днями відбудеться звільнення.', 1],\n",
       "       [0.75,\n",
       "        'Раніше, він зажадав позачергового засідання уряду і зняття функції з охорони судів з підконтрольних його відомству Нацполіції і Нацгвардії.',\n",
       "        1],\n",
       "       [0.7,\n",
       "        'Греція передає Росії секретні дані, які Афіни отримують від союзників по НАТО.',\n",
       "        1],\n",
       "       [0.9,\n",
       "        '\"Я закликаю всі цивілізовані країни допомогти покінчити з різаниною і кровопролиттям в Сирії\", - заявив Трамп.',\n",
       "        1],\n",
       "       [0.9,\n",
       "        'Більш розумно це зробити в середині-кінці січня\", - відзначив Керрі.',\n",
       "        1],\n",
       "       [0.14444444444444446,\n",
       "        'Карпентер вважає, що Білому дому, Держдепартаменту та Пентагону необхідно продовжити і розширити програму вишколу українських Збройних сил військовими фахівцями НАТО, а також надати Україні оборонні озброєння та устаткування, зокрема протитанкові ракети і контрбатарейні радари з системами контролю.',\n",
       "        1],\n",
       "       [1.0,\n",
       "        'Крім того, Яресько додала, що виступає проти запровадження в Україні податку на розподілений прибуток (так званої \"естонської моделі\").',\n",
       "        1],\n",
       "       [0.8888888888888888, '- упевнений Портников.', 1],\n",
       "       [0.0, 'Датою смерті журналіста вважається 17 вересня 2000 року.',\n",
       "        1],\n",
       "       [0.7000000000000001,\n",
       "        'За словами глави СБУ, \"на кожного ця інформація діє по-різному\" і він не коментуватиме можливі реакції на те, що відбувається в Туреччині, \"починаючи від наших політиків і закінчуючи пересічними громадянами\".',\n",
       "        1],\n",
       "       [0.95,\n",
       "        'Він зазначив, що арештована вихователька не є настільки небезпечною, щоб її було потрібно утримувати в СІЗО.',\n",
       "        1],\n",
       "       [0.725,\n",
       "        'Після цього Добкін взяв пляшку води, сховався за колону в сесійній залі Ради, запив щось і вийшов вже у збудженому стані.',\n",
       "        1],\n",
       "       [1.0,\n",
       "        'За словами одеського губернатора, це - один з ключових виконавців усіх схем Мартиненка.',\n",
       "        1],\n",
       "       [1.0,\n",
       "        'Ведучі обурилися, наголосивши, що так не можна говорити з міністром, на що Рабинович знову відреагував: \"А що ви мені пропонуєте - облизувати його?\".',\n",
       "        1],\n",
       "       [0.9,\n",
       "        'Читайте всі новини по темі \" водні види спорту \" на сайті \"Обозреватель\".',\n",
       "        1],\n",
       "       [1.0,\n",
       "        'Юрист ЕМ АЙТІ КОМПАНІ Олександр Іванов підтвердив факт обшуку в обох офісах компанії.',\n",
       "        1]], dtype=object)"
      ]
     },
     "execution_count": 87,
     "metadata": {},
     "output_type": "execute_result"
    }
   ],
   "source": [
    "subj = df[df['subjectivity'] >= 0.7]\n",
    "\n",
    "subj_1 = df[df['sentence_uk'].str.contains('вважає')]\n",
    "subj_2 = df[df['sentence_uk'].str.contains('вважаю')]\n",
    "subj_3 = df[df['sentence_uk'].str.contains('думку')]\n",
    "\n",
    "subj = pd.concat([subj, subj_1, subj_2, subj_3])[['subjectivity', 'sentence_uk']]\n",
    "\n",
    "subj['y'] = 1\n",
    "\n",
    "print('Subjective', len(subj))\n",
    "\n",
    "shuffle(subj).head(20).values"
   ]
  },
  {
   "cell_type": "code",
   "execution_count": 83,
   "metadata": {},
   "outputs": [
    {
     "data": {
      "text/plain": [
       "array([[1.0,\n",
       "        '\"Для того, щоб повернутися на шлях багатопланового партнерства, треба лише відмовитися від порочної логіки \"гри в одні ворота\", на ділі враховувати думку й інтереси один одного\", - йдеться в статті Путіна.'],\n",
       "       [0.95,\n",
       "        'Таку думку висловив глава представництва ЄС в Україні Ян Томбінський\\xa0під час панельної дискусії \"Як бути успішним в Європі?\"'],\n",
       "       [0.4625,\n",
       "        'На її думку, не кожен зможе впоратися з функціями НАЗК, а реальна робота \"ось-ось почнеться\".'],\n",
       "       [0.0,\n",
       "        'На думку прокурорів, компанія представляла себе як виробника дорожного обладнання і замаскувала поставки, щоб уникнути експортного контролю США.'],\n",
       "       [0.4270833333333333,\n",
       "        'На думку Долгова, стратегія стримування РФ є головним геополітичним фактором, який буде домінувати і визначати дії не тільки країн-членів НАТО, а й інших гравців в сфері безпеки на більш тривалий період.'],\n",
       "       [0.3,\n",
       "        'Таку думку Обама висловив після розмови з держсекретарем США Джоном Керрі, який зараз перебуває з візитом в Москві, передає прес-служба Білого дому.'],\n",
       "       [0.0,\n",
       "        'На думку Пахльовської нинішня Україна розділена на дві країни: Україна, в якої є війна, і Україна, в якої війни немає.'],\n",
       "       [0.4875,\n",
       "        'На її думку, в такому ментальному розподілі полягає найбільша моральна проблема нації.'],\n",
       "       [0.0,\n",
       "        \"Таку думку висловила у неділю, 10 липня, федеральна канцлерка Німеччини Анґела Меркель в інтерв'ю телеканалу ZDF, передає  DW.com .\"],\n",
       "       [0.33380952380952383,\n",
       "        'На її думку, головним чинником невдоволення британців членством в Євросоюзі стало право на вільне пересування громадян та робочої сили.'],\n",
       "       [0.0,\n",
       "        'І, на нашу думку, безвідповідально йти на будь-які канікули без вирішення цього завдання\" – сказав він.'],\n",
       "       [0.4,\n",
       "        'На думку Тимчука, \"на даному окрузі може трапитися повноцінний реванш сепаратистів і банди (Віктора) Януковича, яка вже ніяк не маскує свої потуги\".'],\n",
       "       [0.16666666666666666,\n",
       "        'Раніше в ЗМІ повідомлялося, що 7 липня близько 50 активістів ВО \"Свобода\" увірвалися в будівлю представництва Росспівробітництва в Києві і зірвали презентацію книги українського історика Толочка \"Звідки пішла російська земля\", яка, на їхню думку, є антиукраїнською.'],\n",
       "       [0.0,\n",
       "        'На думку ФСБ, стаття містила заклики, спрямовані на порушення територіальної цілісності РФ та розпалювання міжнаціональної ненависті.'],\n",
       "       [0.3858333333333334,\n",
       "        'Така ситуація, на думку екс-президента Польщі, склалася через високу активність російських військових в регіоні, особливо біля кордонів Естонії і Латвії, крім того, в безпосередній близькості від Молдови.'],\n",
       "       [0.5,\n",
       "        'На його думку, оголошення таких виборів введе країну в \"еру популізму\".'],\n",
       "       [0.5,\n",
       "        'Таку думку висловив голова Верховної Ради Андрій Парубій на брифінгу в Трускавці Львівської області.'],\n",
       "       [0.0,\n",
       "        'Коментуючи думку, що у виступах німецьких політиків все більше відчувається \"українська втома\" і підозру, що Київ прикривається конфліктом на сході для виправдання повільності у реформах, прем’єр сказав: \"А ми не будемо виправдовуватися\".'],\n",
       "       [0.3,\n",
       "        'На думку слідства, компанії, підконтрольні Онищенку, перепродавали куплений у держкомпаній газ своїм же фірмам за заниженими цінами, а після цього реалізовували його кінцевим споживачам за ринковою ціною.'],\n",
       "       [0.5416666666666667,\n",
       "        'Новинський також назвав цю інформацію або непорозумінням і фейком, або \"усвідомленим вкиданням, в своєму роді спробою залякати, потріпати нерви, протестувати громадську думку\".']],\n",
       "      dtype=object)"
      ]
     },
     "execution_count": 83,
     "metadata": {},
     "output_type": "execute_result"
    }
   ],
   "source": [
    "df[df['sentence_uk'].str.contains('думку')][['subjectivity', 'sentence_uk']].head(20).values\n"
   ]
  },
  {
   "cell_type": "code",
   "execution_count": 90,
   "metadata": {},
   "outputs": [],
   "source": [
    "result = pd.concat([obj, subj])\n",
    "result.to_parquet('data/classification_data.parquet', compression='uncompressed')"
   ]
  },
  {
   "cell_type": "code",
   "execution_count": null,
   "metadata": {},
   "outputs": [],
   "source": []
  }
 ],
 "metadata": {
  "kernelspec": {
   "display_name": "Python 3",
   "language": "python",
   "name": "python3"
  },
  "language_info": {
   "codemirror_mode": {
    "name": "ipython",
    "version": 3
   },
   "file_extension": ".py",
   "mimetype": "text/x-python",
   "name": "python",
   "nbconvert_exporter": "python",
   "pygments_lexer": "ipython3",
   "version": "3.6.4"
  }
 },
 "nbformat": 4,
 "nbformat_minor": 2
}
