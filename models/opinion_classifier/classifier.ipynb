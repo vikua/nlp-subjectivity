{
 "cells": [
  {
   "cell_type": "code",
   "execution_count": 1,
   "metadata": {},
   "outputs": [],
   "source": [
    "import string\n",
    "import re\n",
    "import pandas as pd \n",
    "import numpy as np\n",
    "import pymorphy2\n",
    "import tokenize_uk as tk\n",
    "import gensim\n",
    "from collections import defaultdict\n",
    "\n",
    "from sklearn.linear_model import SGDClassifier\n",
    "from sklearn.feature_extraction.text import CountVectorizer, TfidfVectorizer\n",
    "from sklearn.utils import shuffle, resample\n",
    "from sklearn.model_selection import train_test_split\n",
    "from sklearn.metrics import f1_score, classification_report, confusion_matrix\n",
    "\n",
    "import sklearn_crfsuite\n",
    "\n",
    "from stop_words import get_stop_words\n",
    "\n",
    "pd.set_option('display.max_colwidth', -1)\n",
    "import warnings\n",
    "warnings.filterwarnings('ignore')"
   ]
  },
  {
   "cell_type": "code",
   "execution_count": 14,
   "metadata": {},
   "outputs": [],
   "source": [
    "df = pd.read_csv('../../data/golden_data.csv')"
   ]
  },
  {
   "cell_type": "code",
   "execution_count": 15,
   "metadata": {},
   "outputs": [
    {
     "data": {
      "text/html": [
       "<div>\n",
       "<style scoped>\n",
       "    .dataframe tbody tr th:only-of-type {\n",
       "        vertical-align: middle;\n",
       "    }\n",
       "\n",
       "    .dataframe tbody tr th {\n",
       "        vertical-align: top;\n",
       "    }\n",
       "\n",
       "    .dataframe thead th {\n",
       "        text-align: right;\n",
       "    }\n",
       "</style>\n",
       "<table border=\"1\" class=\"dataframe\">\n",
       "  <thead>\n",
       "    <tr style=\"text-align: right;\">\n",
       "      <th></th>\n",
       "      <th>sentence_uk</th>\n",
       "    </tr>\n",
       "    <tr>\n",
       "      <th>y</th>\n",
       "      <th></th>\n",
       "    </tr>\n",
       "  </thead>\n",
       "  <tbody>\n",
       "    <tr>\n",
       "      <th>0</th>\n",
       "      <td>11112</td>\n",
       "    </tr>\n",
       "    <tr>\n",
       "      <th>1</th>\n",
       "      <td>11058</td>\n",
       "    </tr>\n",
       "  </tbody>\n",
       "</table>\n",
       "</div>"
      ],
      "text/plain": [
       "   sentence_uk\n",
       "y             \n",
       "0  11112      \n",
       "1  11058      "
      ]
     },
     "execution_count": 15,
     "metadata": {},
     "output_type": "execute_result"
    }
   ],
   "source": [
    "df.groupby(['y']).count()"
   ]
  },
  {
   "cell_type": "code",
   "execution_count": 16,
   "metadata": {},
   "outputs": [],
   "source": [
    "text = df['sentence_uk']\n",
    "y = df['y'].values\n",
    "X_train, X_test, y_train, y_test = train_test_split(text, y, test_size=0.2, random_state=1234, stratify=y)"
   ]
  },
  {
   "cell_type": "code",
   "execution_count": 17,
   "metadata": {},
   "outputs": [],
   "source": [
    "stop_words = get_stop_words('uk')\n",
    "morph = pymorphy2.MorphAnalyzer(lang='uk')\n",
    "\n",
    "def clean_data(text):\n",
    "    reg = re.compile(\"\"\"[\\\"#$%&*\\-+/:;<=>@^`~…\\\\(\\\\)⟨⟩{}\\[\\|\\]‒–—―«»“”‘’№]\"\"\")\n",
    "    result = text.apply(lambda sent: [re.sub(reg, '', x) for x in sent])\n",
    "    result = result.apply(lambda sent: [x for x in sent if x.strip()])\n",
    "\n",
    "    result = result.apply(lambda sent: [x.lower() for x in sent])\n",
    "\n",
    "    return result\n",
    "\n",
    "def lemmatize(words): \n",
    "    result_words = []\n",
    "    for w in words: \n",
    "        m = morph.parse(w)[0]\n",
    "        if m.normal_form:\n",
    "            result_words.append(m.normal_form)\n",
    "    return result_words\n",
    "\n",
    "def delete_stop_words(words): \n",
    "    result = []\n",
    "    for w in words: \n",
    "        if w not in stop_words: \n",
    "            result.append(w)\n",
    "    return result"
   ]
  },
  {
   "cell_type": "code",
   "execution_count": 18,
   "metadata": {},
   "outputs": [],
   "source": [
    "X_train_clean = clean_data(X_train.apply(tk.tokenize_words)).apply(lemmatize)\n",
    "X_test_clean = clean_data(X_test.apply(tk.tokenize_words)).apply(lemmatize)"
   ]
  },
  {
   "cell_type": "code",
   "execution_count": 19,
   "metadata": {},
   "outputs": [],
   "source": [
    "accum = {\n",
    "    'x': X_test, \n",
    "    'y': y_test, \n",
    "    'x_clean': X_test_clean,\n",
    "}"
   ]
  },
  {
   "cell_type": "code",
   "execution_count": 20,
   "metadata": {},
   "outputs": [],
   "source": [
    "vectorizer = CountVectorizer(analyzer='word', lowercase=False, tokenizer=lambda x: x, max_features=10000)\n",
    "X_train_vec = vectorizer.fit_transform(X_train_clean.apply(delete_stop_words))\n",
    "X_test_vec = vectorizer.transform(X_test_clean.apply(delete_stop_words))"
   ]
  },
  {
   "cell_type": "code",
   "execution_count": 21,
   "metadata": {},
   "outputs": [
    {
     "data": {
      "text/plain": [
       "0.8152223750573131"
      ]
     },
     "execution_count": 21,
     "metadata": {},
     "output_type": "execute_result"
    }
   ],
   "source": [
    "clf = SGDClassifier(loss='log', penalty='elasticnet', n_jobs=-1, learning_rate='optimal', random_state=1234)\n",
    "clf.fit(X_train_vec, y_train)\n",
    "y_pred = clf.predict(X_test_vec)\n",
    "\n",
    "accum['bow_y_pred'] = y_pred\n",
    "\n",
    "f1_score(y_test, y_pred)"
   ]
  },
  {
   "cell_type": "code",
   "execution_count": 22,
   "metadata": {},
   "outputs": [
    {
     "name": "stdout",
     "output_type": "stream",
     "text": [
      "             precision    recall  f1-score   support\n",
      "\n",
      "          0       0.81      0.83      0.82      2222\n",
      "          1       0.83      0.80      0.82      2212\n",
      "\n",
      "avg / total       0.82      0.82      0.82      4434\n",
      "\n"
     ]
    }
   ],
   "source": [
    "print(classification_report(y_test, y_pred))"
   ]
  },
  {
   "cell_type": "code",
   "execution_count": 23,
   "metadata": {},
   "outputs": [
    {
     "data": {
      "text/plain": [
       "array([[1850,  372],\n",
       "       [ 434, 1778]])"
      ]
     },
     "execution_count": 23,
     "metadata": {},
     "output_type": "execute_result"
    }
   ],
   "source": [
    "confusion_matrix(y_test, y_pred)"
   ]
  },
  {
   "cell_type": "code",
   "execution_count": 24,
   "metadata": {},
   "outputs": [],
   "source": [
    "d = pd.DataFrame(accum)"
   ]
  },
  {
   "cell_type": "code",
   "execution_count": 232,
   "metadata": {},
   "outputs": [],
   "source": [
    "d[d['bow_y_pred'] != d['y']].to_csv('../../data/errors_bow.csv', index=False, header=True)"
   ]
  },
  {
   "cell_type": "code",
   "execution_count": 233,
   "metadata": {},
   "outputs": [
    {
     "data": {
      "text/html": [
       "<div>\n",
       "<style scoped>\n",
       "    .dataframe tbody tr th:only-of-type {\n",
       "        vertical-align: middle;\n",
       "    }\n",
       "\n",
       "    .dataframe tbody tr th {\n",
       "        vertical-align: top;\n",
       "    }\n",
       "\n",
       "    .dataframe thead th {\n",
       "        text-align: right;\n",
       "    }\n",
       "</style>\n",
       "<table border=\"1\" class=\"dataframe\">\n",
       "  <thead>\n",
       "    <tr style=\"text-align: right;\">\n",
       "      <th></th>\n",
       "      <th>bow_y_pred</th>\n",
       "      <th>x</th>\n",
       "      <th>x_clean</th>\n",
       "      <th>y</th>\n",
       "    </tr>\n",
       "  </thead>\n",
       "  <tbody>\n",
       "    <tr>\n",
       "      <th>24838</th>\n",
       "      <td>0</td>\n",
       "      <td>Про це в Facebook повідомив координатор групи \"Інформаційний опір\" Дмитро Тимчук.</td>\n",
       "      <td>[про, це, в, facebook, повідомити, координатор, група, інформаційний опір, дмитро, тимчук, .]</td>\n",
       "      <td>0</td>\n",
       "    </tr>\n",
       "    <tr>\n",
       "      <th>4908</th>\n",
       "      <td>1</td>\n",
       "      <td>\"У тій гострій ситуації, в якій перебувають відносини Росії і України, Росії та Заходу, ви ж розумієте, що ніхто не стане звільняти Сущенка просто так.</td>\n",
       "      <td>[у, той, гострий, ситуація, ,, в, який, перебувати, відносини, росія, і, україна, ,, росія, та, захід, ,, ви, ж, розуміти, ,, що, ніхто, не, стан, звільняти, сущенко, просто, так, .]</td>\n",
       "      <td>1</td>\n",
       "    </tr>\n",
       "    <tr>\n",
       "      <th>60531</th>\n",
       "      <td>0</td>\n",
       "      <td>\"Одна з комерційних структур Полтавщини підписала угоду на постачання вуглеводнів з двома нафтопереробними заводами, що розташовані у Харківській і Дніпропетровській областях.</td>\n",
       "      <td>[один, з, комерційний, структура, полтавщина, підписати, угода, на, постачання, вуглеводень, з, два, нафтопереробний, завод, ,, що, розташований, у, харківський, і, дніпропетровський, область, .]</td>\n",
       "      <td>0</td>\n",
       "    </tr>\n",
       "    <tr>\n",
       "      <th>642</th>\n",
       "      <td>1</td>\n",
       "      <td>Народний депутат від Блоку Петра Порошенка  Микола Томенко  вважає популізмом демонстративну відмову парламенту від літніх канікул.</td>\n",
       "      <td>[народний, депутат, від, блок, петро, порошенко, микола, томенко, вважати, популізм, демонстративний, відмова, парламент, від, літній, канікули, .]</td>\n",
       "      <td>1</td>\n",
       "    </tr>\n",
       "    <tr>\n",
       "      <th>29775</th>\n",
       "      <td>1</td>\n",
       "      <td>\"Сьогодні всі, хто критикує уряд Яценюка, не можуть дати відповідь, а що вони пропонують.</td>\n",
       "      <td>[сьогодні, весь, ,, хто, критикувати, уряд, яценюк, ,, не, могти, дати, відповідь, ,, а, що, вони, пропонувати, .]</td>\n",
       "      <td>0</td>\n",
       "    </tr>\n",
       "  </tbody>\n",
       "</table>\n",
       "</div>"
      ],
      "text/plain": [
       "       bow_y_pred  \\\n",
       "24838  0            \n",
       "4908   1            \n",
       "60531  0            \n",
       "642    1            \n",
       "29775  1            \n",
       "\n",
       "                                                                                                                                                                                     x  \\\n",
       "24838  Про це в Facebook повідомив координатор групи \"Інформаційний опір\" Дмитро Тимчук.                                                                                                 \n",
       "4908   \"У тій гострій ситуації, в якій перебувають відносини Росії і України, Росії та Заходу, ви ж розумієте, що ніхто не стане звільняти Сущенка просто так.                           \n",
       "60531  \"Одна з комерційних структур Полтавщини підписала угоду на постачання вуглеводнів з двома нафтопереробними заводами, що розташовані у Харківській і Дніпропетровській областях.   \n",
       "642    Народний депутат від Блоку Петра Порошенка  Микола Томенко  вважає популізмом демонстративну відмову парламенту від літніх канікул.                                               \n",
       "29775  \"Сьогодні всі, хто критикує уряд Яценюка, не можуть дати відповідь, а що вони пропонують.                                                                                         \n",
       "\n",
       "                                                                                                                                                                                                   x_clean  \\\n",
       "24838  [про, це, в, facebook, повідомити, координатор, група, інформаційний опір, дмитро, тимчук, .]                                                                                                         \n",
       "4908   [у, той, гострий, ситуація, ,, в, який, перебувати, відносини, росія, і, україна, ,, росія, та, захід, ,, ви, ж, розуміти, ,, що, ніхто, не, стан, звільняти, сущенко, просто, так, .]                \n",
       "60531  [один, з, комерційний, структура, полтавщина, підписати, угода, на, постачання, вуглеводень, з, два, нафтопереробний, завод, ,, що, розташований, у, харківський, і, дніпропетровський, область, .]   \n",
       "642    [народний, депутат, від, блок, петро, порошенко, микола, томенко, вважати, популізм, демонстративний, відмова, парламент, від, літній, канікули, .]                                                   \n",
       "29775  [сьогодні, весь, ,, хто, критикувати, уряд, яценюк, ,, не, могти, дати, відповідь, ,, а, що, вони, пропонувати, .]                                                                                    \n",
       "\n",
       "       y  \n",
       "24838  0  \n",
       "4908   1  \n",
       "60531  0  \n",
       "642    1  \n",
       "29775  0  "
      ]
     },
     "execution_count": 233,
     "metadata": {},
     "output_type": "execute_result"
    }
   ],
   "source": [
    "d.head()"
   ]
  },
  {
   "cell_type": "code",
   "execution_count": null,
   "metadata": {},
   "outputs": [],
   "source": []
  }
 ],
 "metadata": {
  "kernelspec": {
   "display_name": "Python 3",
   "language": "python",
   "name": "python3"
  },
  "language_info": {
   "codemirror_mode": {
    "name": "ipython",
    "version": 3
   },
   "file_extension": ".py",
   "mimetype": "text/x-python",
   "name": "python",
   "nbconvert_exporter": "python",
   "pygments_lexer": "ipython3",
   "version": "3.6.4"
  }
 },
 "nbformat": 4,
 "nbformat_minor": 2
}
